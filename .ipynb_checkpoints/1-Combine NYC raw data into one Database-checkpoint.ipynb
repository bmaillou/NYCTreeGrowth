{
 "cells": [
  {
   "cell_type": "code",
   "execution_count": 1,
   "metadata": {},
   "outputs": [],
   "source": [
    "%matplotlib inline\n",
    "import matplotlib.pylab as plt\n",
    "from matplotlib.backends.backend_pdf import PdfPages\n",
    "import matplotlib.dates as mdates\n",
    "import matplotlib.cm as cm\n",
    "import numpy as np # for array processing\n",
    "import pandas as pd \n",
    "\n",
    "from scipy.stats import norm\n",
    "from scipy import stats\n",
    "from scipy.stats import gaussian_kde\n",
    "\n",
    "import datetime\n",
    "\n",
    "import folium\n",
    "from IPython.display import HTML\n",
    "from IPython.display import IFrame\n",
    "import base64\n",
    "\n",
    "\n",
    "#from mpld3 import save_html  #Installed from conda\n",
    "from folium import IFrame"
   ]
  },
  {
   "cell_type": "markdown",
   "metadata": {},
   "source": [
    "## Combining NYC data\n",
    "This notebook takes the two NYC tree datasets from 2005 and 2015 does a few minor cleaning steps and the aligns them and exports the new database. \n",
    "\n",
    "notes.  remember to use new_env to use basemap.  \n",
    "conda info --envs\n",
    "conda activate new_env"
   ]
  },
  {
   "cell_type": "markdown",
   "metadata": {},
   "source": [
    "## Import NYC Data Files from 2005 and 2015"
   ]
  },
  {
   "cell_type": "code",
   "execution_count": 2,
   "metadata": {},
   "outputs": [
    {
     "name": "stderr",
     "output_type": "stream",
     "text": [
      "/Users/bmaillou/anaconda3/lib/python3.8/site-packages/IPython/core/interactiveshell.py:3146: DtypeWarning: Columns (2,37,43) have mixed types.Specify dtype option on import or set low_memory=False.\n",
      "  has_raised = await self.run_ast_nodes(code_ast.body, cell_name,\n"
     ]
    }
   ],
   "source": [
    "#df15=pd.read_csv('DataFiles/2015_Street_Tree_Census_-_Tree_Data.csv')\n",
    "#df05=pd.read_csv('DataFiles/2005_Street_Tree_Census.csv')\n",
    "\n",
    "df15=pd.read_csv('DataFiles/2015_Street_Tree_Census_-_Tree_Data.csv')\n",
    "df05=pd.read_csv('DataFiles/2005_Street_Tree_Census.csv')"
   ]
  },
  {
   "cell_type": "code",
   "execution_count": null,
   "metadata": {},
   "outputs": [],
   "source": []
  },
  {
   "cell_type": "code",
   "execution_count": 3,
   "metadata": {},
   "outputs": [
    {
     "data": {
      "text/plain": [
       "False    564708\n",
       "True      27664\n",
       "Name: spc_common, dtype: int64"
      ]
     },
     "execution_count": 3,
     "metadata": {},
     "output_type": "execute_result"
    }
   ],
   "source": [
    "(df05['spc_common']=='LINDEN, LITTLE LEAF').value_counts()"
   ]
  },
  {
   "cell_type": "code",
   "execution_count": 4,
   "metadata": {},
   "outputs": [],
   "source": [
    "df05['spc_common']=df05['spc_common'].str.replace('LINDEN, LITTLE LEAF','littleleaf linden')"
   ]
  },
  {
   "cell_type": "code",
   "execution_count": 5,
   "metadata": {},
   "outputs": [
    {
     "data": {
      "text/plain": [
       "LONDON PLANETREE          89529\n",
       "MAPLE, NORWAY             74721\n",
       "PEAR, CALLERY             63593\n",
       "HONEYLOCUST               52191\n",
       "OAK, PIN                  43895\n",
       "                          ...  \n",
       "CEDAR, DEODAR                 1\n",
       "FALSECYPRESS, JAPANESE        1\n",
       "AMERICAN SMOKETREE            1\n",
       "ELM, ROCK                     1\n",
       "MOUNTAINASH, AMERICAN         1\n",
       "Name: spc_common, Length: 169, dtype: int64"
      ]
     },
     "execution_count": 5,
     "metadata": {},
     "output_type": "execute_result"
    }
   ],
   "source": [
    "df05['spc_common'].value_counts()"
   ]
  },
  {
   "cell_type": "markdown",
   "metadata": {},
   "source": [
    "drop missing data and makes sure things are numbers or strings to make sure they align"
   ]
  },
  {
   "cell_type": "code",
   "execution_count": 6,
   "metadata": {},
   "outputs": [],
   "source": [
    "df05.dropna(subset=['spc_common'],inplace=True)\n",
    "df15.dropna(subset=['spc_common'],inplace=True)\n",
    "\n",
    "df05=df05[df05['spc_common']!='nan']\n",
    "df15=df15[df15['spc_common']!='nan']\n",
    "\n",
    "df05['tree_dbh']=pd.to_numeric(df05['tree_dbh'],errors='coerce')\n",
    "df15['tree_dbh']=pd.to_numeric(df15['tree_dbh'],errors='coerce')\n",
    "\n",
    "df05['address'] = df05['address'].astype(str).str.lower()\n",
    "df15['address'] = df15['address'].astype(str).str.lower()\n",
    "\n",
    "df05['spc_common'] = df05['spc_common'].astype(str).str.lower()\n",
    "df15['spc_common'] = df15['spc_common'].astype(str).str.lower()\n",
    "# fix little leaf linden\n",
    "df05['spc_common']=df05['spc_common'].str.replace('LINDEN, LITTLE LEAF','littleleaf linden')\n",
    "\n",
    "\n",
    "df05['address']=df05['address'].str.replace(' +',' ')\n",
    "df15['address']=df15['address'].str.replace(' +',' ')\n",
    "\n",
    "df05['address']=df05['address'].str.replace('-00','-')\n",
    "df15['address']=df15['address'].str.replace('-00','-')\n",
    "\n",
    "df05['address']=df05['address'].str.replace('-0','-')\n",
    "df15['address']=df15['address'].str.replace('-0','-')\n",
    "\n",
    "\n",
    "\n",
    "\n",
    "#rename columns so they match\n",
    "df05['spc_common'] = df05['spc_common'].str.replace(r'(.+),\\s+(.+)', r'\\2 \\1')\n",
    "df05.rename({'zipcode':'postcode'}, axis='columns',inplace=True)\n",
    "\n",
    "#get rid of leading zeros in addresses\n",
    "#df15[\"address\"]=df15[\"address\"].str.strip(\"0\")\n",
    "#df15[\"address\"]=df15[\"address\"].str.strip(\"0\")"
   ]
  },
  {
   "cell_type": "markdown",
   "metadata": {},
   "source": [
    "set the multi index and then sort it so we can align the two datasets\n",
    "\n",
    "Then it saves to an excel file to make it easier to use."
   ]
  },
  {
   "cell_type": "code",
   "execution_count": 7,
   "metadata": {},
   "outputs": [
    {
     "name": "stdout",
     "output_type": "stream",
     "text": [
      "the shape of df05 is (592372, 52)\n",
      "the shape of df15 is (652169, 43)\n",
      "\n",
      "After dropping duplicates\n",
      "the shape of df05 is (416857, 52)\n",
      "the shape of df15 is (499626, 43)\n",
      "\n",
      "After concatting 05 and 15\n",
      "the shape of dfcomb is (773289, 95)\n",
      "final numbers are (773289, 95)\n"
     ]
    }
   ],
   "source": [
    "df05.reset_index(inplace=True)\n",
    "df15.reset_index(inplace=True)\n",
    "\n",
    "df05.set_index(['postcode','address','spc_common'],inplace=True)\n",
    "df15.set_index(['postcode','address','spc_common'],inplace=True)\n",
    "\n",
    "#sorting is key to making it all work\n",
    "df05 = df05.sort_index(ascending=[False, True,True])\n",
    "df15 = df15.sort_index(ascending=[False, True,True])\n",
    "\n",
    "print(\"the shape of df05 is\",df05.shape)\n",
    "print(\"the shape of df15 is\",df15.shape)\n",
    "\n",
    "df05=df05[~df05.index.duplicated()]\n",
    "df15=df15[~df15.index.duplicated()]\n",
    "\n",
    "print(\"\\nAfter dropping duplicates\")\n",
    "print(\"the shape of df05 is\",df05.shape)\n",
    "print(\"the shape of df15 is\",df15.shape)\n",
    "\n",
    "#add a suffix to make them align\n",
    "df05=df05.add_suffix('_05')\n",
    "df15=df15.add_suffix('_15')\n",
    "\n",
    "#concat them\n",
    "dfcomb=pd.concat([df05, df15], axis=1)\n",
    "\n",
    "#the shape of dfcomb to see how it went\n",
    "print(\"\\nAfter concatting 05 and 15\")\n",
    "print(\"the shape of dfcomb is\",dfcomb.shape)\n",
    "\n",
    "#now export to excel\n",
    "dfcomb.reset_index().to_excel('DataFiles/PaperVersionUncleaned_05_15_combined.xlsx')\n",
    "print(\"final numbers are\",dfcomb.shape)\n",
    "\n",
    "\n"
   ]
  },
  {
   "cell_type": "code",
   "execution_count": null,
   "metadata": {},
   "outputs": [],
   "source": []
  },
  {
   "cell_type": "code",
   "execution_count": 9,
   "metadata": {},
   "outputs": [],
   "source": []
  }
 ],
 "metadata": {
  "kernelspec": {
   "display_name": "Python 3",
   "language": "python",
   "name": "python3"
  },
  "language_info": {
   "codemirror_mode": {
    "name": "ipython",
    "version": 3
   },
   "file_extension": ".py",
   "mimetype": "text/x-python",
   "name": "python",
   "nbconvert_exporter": "python",
   "pygments_lexer": "ipython3",
   "version": "3.8.5"
  }
 },
 "nbformat": 4,
 "nbformat_minor": 2
}
