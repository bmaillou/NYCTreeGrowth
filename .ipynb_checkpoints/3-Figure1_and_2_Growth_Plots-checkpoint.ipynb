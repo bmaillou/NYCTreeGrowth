{
 "cells": [
  {
   "cell_type": "code",
   "execution_count": 1,
   "metadata": {},
   "outputs": [
    {
     "ename": "AttributeError",
     "evalue": "module 'numpy' has no attribute 'MachAr'",
     "output_type": "error",
     "traceback": [
      "\u001b[0;31m---------------------------------------------------------------------------\u001b[0m",
      "\u001b[0;31mAttributeError\u001b[0m                            Traceback (most recent call last)",
      "\u001b[0;32m<ipython-input-1-6cf9367c848a>\u001b[0m in \u001b[0;36m<module>\u001b[0;34m\u001b[0m\n\u001b[1;32m     20\u001b[0m from statsmodels.stats.multicomp import (pairwise_tukeyhsd,\n\u001b[1;32m     21\u001b[0m                                          MultiComparison)\n\u001b[0;32m---> 22\u001b[0;31m \u001b[0;32mfrom\u001b[0m \u001b[0mstatsmodels\u001b[0m\u001b[0;34m.\u001b[0m\u001b[0mformula\u001b[0m\u001b[0;34m.\u001b[0m\u001b[0mapi\u001b[0m \u001b[0;32mimport\u001b[0m \u001b[0mols\u001b[0m\u001b[0;34m\u001b[0m\u001b[0;34m\u001b[0m\u001b[0m\n\u001b[0m\u001b[1;32m     23\u001b[0m \u001b[0;32mfrom\u001b[0m \u001b[0mstatsmodels\u001b[0m\u001b[0;34m.\u001b[0m\u001b[0mstats\u001b[0m\u001b[0;34m.\u001b[0m\u001b[0manova\u001b[0m \u001b[0;32mimport\u001b[0m \u001b[0manova_lm\u001b[0m\u001b[0;34m\u001b[0m\u001b[0;34m\u001b[0m\u001b[0m\n\u001b[1;32m     24\u001b[0m \u001b[0;32mfrom\u001b[0m \u001b[0mstatsmodels\u001b[0m\u001b[0;34m.\u001b[0m\u001b[0mgraphics\u001b[0m\u001b[0;34m.\u001b[0m\u001b[0mfactorplots\u001b[0m \u001b[0;32mimport\u001b[0m \u001b[0minteraction_plot\u001b[0m\u001b[0;34m\u001b[0m\u001b[0;34m\u001b[0m\u001b[0m\n",
      "\u001b[0;32m~/anaconda3/envs/new_env/lib/python3.8/site-packages/statsmodels/formula/api.py\u001b[0m in \u001b[0;36m<module>\u001b[0;34m\u001b[0m\n\u001b[0;32m----> 1\u001b[0;31m \u001b[0;32mimport\u001b[0m \u001b[0mstatsmodels\u001b[0m\u001b[0;34m.\u001b[0m\u001b[0mregression\u001b[0m\u001b[0;34m.\u001b[0m\u001b[0mlinear_model\u001b[0m \u001b[0;32mas\u001b[0m \u001b[0mlm_\u001b[0m\u001b[0;34m\u001b[0m\u001b[0;34m\u001b[0m\u001b[0m\n\u001b[0m\u001b[1;32m      2\u001b[0m \u001b[0;32mimport\u001b[0m \u001b[0mstatsmodels\u001b[0m\u001b[0;34m.\u001b[0m\u001b[0mdiscrete\u001b[0m\u001b[0;34m.\u001b[0m\u001b[0mdiscrete_model\u001b[0m \u001b[0;32mas\u001b[0m \u001b[0mdm_\u001b[0m\u001b[0;34m\u001b[0m\u001b[0;34m\u001b[0m\u001b[0m\n\u001b[1;32m      3\u001b[0m \u001b[0;32mimport\u001b[0m \u001b[0mstatsmodels\u001b[0m\u001b[0;34m.\u001b[0m\u001b[0mregression\u001b[0m\u001b[0;34m.\u001b[0m\u001b[0mmixed_linear_model\u001b[0m \u001b[0;32mas\u001b[0m \u001b[0mmlm_\u001b[0m\u001b[0;34m\u001b[0m\u001b[0;34m\u001b[0m\u001b[0m\n\u001b[1;32m      4\u001b[0m \u001b[0;32mimport\u001b[0m \u001b[0mstatsmodels\u001b[0m\u001b[0;34m.\u001b[0m\u001b[0mgenmod\u001b[0m\u001b[0;34m.\u001b[0m\u001b[0mgeneralized_linear_model\u001b[0m \u001b[0;32mas\u001b[0m \u001b[0mglm_\u001b[0m\u001b[0;34m\u001b[0m\u001b[0;34m\u001b[0m\u001b[0m\n\u001b[1;32m      5\u001b[0m \u001b[0;32mimport\u001b[0m \u001b[0mstatsmodels\u001b[0m\u001b[0;34m.\u001b[0m\u001b[0mrobust\u001b[0m\u001b[0;34m.\u001b[0m\u001b[0mrobust_linear_model\u001b[0m \u001b[0;32mas\u001b[0m \u001b[0mroblm_\u001b[0m\u001b[0;34m\u001b[0m\u001b[0;34m\u001b[0m\u001b[0m\n",
      "\u001b[0;32m~/anaconda3/envs/new_env/lib/python3.8/site-packages/statsmodels/regression/__init__.py\u001b[0m in \u001b[0;36m<module>\u001b[0;34m\u001b[0m\n\u001b[0;32m----> 1\u001b[0;31m \u001b[0;32mfrom\u001b[0m \u001b[0;34m.\u001b[0m\u001b[0mlinear_model\u001b[0m \u001b[0;32mimport\u001b[0m \u001b[0myule_walker\u001b[0m\u001b[0;34m\u001b[0m\u001b[0;34m\u001b[0m\u001b[0m\n\u001b[0m\u001b[1;32m      2\u001b[0m \u001b[0;34m\u001b[0m\u001b[0m\n\u001b[1;32m      3\u001b[0m \u001b[0;32mfrom\u001b[0m \u001b[0mstatsmodels\u001b[0m\u001b[0;34m.\u001b[0m\u001b[0mtools\u001b[0m\u001b[0;34m.\u001b[0m\u001b[0m_testing\u001b[0m \u001b[0;32mimport\u001b[0m \u001b[0mPytestTester\u001b[0m\u001b[0;34m\u001b[0m\u001b[0;34m\u001b[0m\u001b[0m\n\u001b[1;32m      4\u001b[0m \u001b[0;34m\u001b[0m\u001b[0m\n\u001b[1;32m      5\u001b[0m \u001b[0m__all__\u001b[0m \u001b[0;34m=\u001b[0m \u001b[0;34m[\u001b[0m\u001b[0;34m'yule_walker'\u001b[0m\u001b[0;34m,\u001b[0m \u001b[0;34m'test'\u001b[0m\u001b[0;34m]\u001b[0m\u001b[0;34m\u001b[0m\u001b[0;34m\u001b[0m\u001b[0m\n",
      "\u001b[0;32m~/anaconda3/envs/new_env/lib/python3.8/site-packages/statsmodels/regression/linear_model.py\u001b[0m in \u001b[0;36m<module>\u001b[0;34m\u001b[0m\n\u001b[1;32m     44\u001b[0m from statsmodels.tools.decorators import (cache_readonly,\n\u001b[1;32m     45\u001b[0m                                           cache_writable)\n\u001b[0;32m---> 46\u001b[0;31m \u001b[0;32mimport\u001b[0m \u001b[0mstatsmodels\u001b[0m\u001b[0;34m.\u001b[0m\u001b[0mbase\u001b[0m\u001b[0;34m.\u001b[0m\u001b[0mmodel\u001b[0m \u001b[0;32mas\u001b[0m \u001b[0mbase\u001b[0m\u001b[0;34m\u001b[0m\u001b[0;34m\u001b[0m\u001b[0m\n\u001b[0m\u001b[1;32m     47\u001b[0m \u001b[0;32mimport\u001b[0m \u001b[0mstatsmodels\u001b[0m\u001b[0;34m.\u001b[0m\u001b[0mbase\u001b[0m\u001b[0;34m.\u001b[0m\u001b[0mwrapper\u001b[0m \u001b[0;32mas\u001b[0m \u001b[0mwrap\u001b[0m\u001b[0;34m\u001b[0m\u001b[0;34m\u001b[0m\u001b[0m\n\u001b[1;32m     48\u001b[0m \u001b[0;32mfrom\u001b[0m \u001b[0mstatsmodels\u001b[0m\u001b[0;34m.\u001b[0m\u001b[0memplike\u001b[0m\u001b[0;34m.\u001b[0m\u001b[0melregress\u001b[0m \u001b[0;32mimport\u001b[0m \u001b[0m_ELRegOpts\u001b[0m\u001b[0;34m\u001b[0m\u001b[0;34m\u001b[0m\u001b[0m\n",
      "\u001b[0;32m~/anaconda3/envs/new_env/lib/python3.8/site-packages/statsmodels/base/model.py\u001b[0m in \u001b[0;36m<module>\u001b[0;34m\u001b[0m\n\u001b[1;32m     14\u001b[0m                                           cached_value, cached_data)\n\u001b[1;32m     15\u001b[0m \u001b[0;32mimport\u001b[0m \u001b[0mstatsmodels\u001b[0m\u001b[0;34m.\u001b[0m\u001b[0mbase\u001b[0m\u001b[0;34m.\u001b[0m\u001b[0mwrapper\u001b[0m \u001b[0;32mas\u001b[0m \u001b[0mwrap\u001b[0m\u001b[0;34m\u001b[0m\u001b[0;34m\u001b[0m\u001b[0m\n\u001b[0;32m---> 16\u001b[0;31m \u001b[0;32mfrom\u001b[0m \u001b[0mstatsmodels\u001b[0m\u001b[0;34m.\u001b[0m\u001b[0mtools\u001b[0m\u001b[0;34m.\u001b[0m\u001b[0mnumdiff\u001b[0m \u001b[0;32mimport\u001b[0m \u001b[0mapprox_fprime\u001b[0m\u001b[0;34m\u001b[0m\u001b[0;34m\u001b[0m\u001b[0m\n\u001b[0m\u001b[1;32m     17\u001b[0m \u001b[0;32mfrom\u001b[0m \u001b[0mstatsmodels\u001b[0m\u001b[0;34m.\u001b[0m\u001b[0mtools\u001b[0m\u001b[0;34m.\u001b[0m\u001b[0msm_exceptions\u001b[0m \u001b[0;32mimport\u001b[0m \u001b[0mValueWarning\u001b[0m\u001b[0;34m,\u001b[0m\u001b[0;31m \u001b[0m\u001b[0;31m\\\u001b[0m\u001b[0;34m\u001b[0m\u001b[0;34m\u001b[0m\u001b[0m\n\u001b[1;32m     18\u001b[0m     \u001b[0mHessianInversionWarning\u001b[0m\u001b[0;34m\u001b[0m\u001b[0;34m\u001b[0m\u001b[0m\n",
      "\u001b[0;32m~/anaconda3/envs/new_env/lib/python3.8/site-packages/statsmodels/tools/numdiff.py\u001b[0m in \u001b[0;36m<module>\u001b[0;34m\u001b[0m\n\u001b[1;32m     49\u001b[0m \u001b[0;34m\u001b[0m\u001b[0m\n\u001b[1;32m     50\u001b[0m \u001b[0;31m# NOTE: we only do double precision internally so far\u001b[0m\u001b[0;34m\u001b[0m\u001b[0;34m\u001b[0m\u001b[0;34m\u001b[0m\u001b[0m\n\u001b[0;32m---> 51\u001b[0;31m \u001b[0mEPS\u001b[0m \u001b[0;34m=\u001b[0m \u001b[0mnp\u001b[0m\u001b[0;34m.\u001b[0m\u001b[0mMachAr\u001b[0m\u001b[0;34m(\u001b[0m\u001b[0;34m)\u001b[0m\u001b[0;34m.\u001b[0m\u001b[0meps\u001b[0m\u001b[0;34m\u001b[0m\u001b[0;34m\u001b[0m\u001b[0m\n\u001b[0m\u001b[1;32m     52\u001b[0m \u001b[0;34m\u001b[0m\u001b[0m\n\u001b[1;32m     53\u001b[0m _hessian_docs = \"\"\"\n",
      "\u001b[0;32m~/anaconda3/envs/new_env/lib/python3.8/site-packages/numpy/__init__.py\u001b[0m in \u001b[0;36m__getattr__\u001b[0;34m(attr)\u001b[0m\n\u001b[1;32m    318\u001b[0m             \u001b[0;32mreturn\u001b[0m \u001b[0mTester\u001b[0m\u001b[0;34m\u001b[0m\u001b[0;34m\u001b[0m\u001b[0m\n\u001b[1;32m    319\u001b[0m \u001b[0;34m\u001b[0m\u001b[0m\n\u001b[0;32m--> 320\u001b[0;31m         raise AttributeError(\"module {!r} has no attribute \"\n\u001b[0m\u001b[1;32m    321\u001b[0m                              \"{!r}\".format(__name__, attr))\n\u001b[1;32m    322\u001b[0m \u001b[0;34m\u001b[0m\u001b[0m\n",
      "\u001b[0;31mAttributeError\u001b[0m: module 'numpy' has no attribute 'MachAr'"
     ]
    }
   ],
   "source": [
    "%matplotlib inline\n",
    "import matplotlib.pylab as plt\n",
    "from matplotlib.backends.backend_pdf import PdfPages\n",
    "import matplotlib.dates as mdates\n",
    "import matplotlib.cm as cm\n",
    "import numpy as np # for array processing\n",
    "import pandas as pd \n",
    "\n",
    "from scipy.stats import norm\n",
    "from scipy import stats\n",
    "from scipy.stats import gaussian_kde\n",
    "\n",
    "import datetime\n",
    "\n",
    "#import folium\n",
    "from IPython.display import HTML\n",
    "from IPython.display import IFrame\n",
    "import base64\n",
    "\n",
    "from statsmodels.stats.multicomp import (pairwise_tukeyhsd,\n",
    "                                         MultiComparison)\n",
    "from statsmodels.formula.api import ols\n",
    "from statsmodels.stats.anova import anova_lm\n",
    "from statsmodels.graphics.factorplots import interaction_plot\n",
    "from statsmodels.tools.eval_measures import rmse\n",
    "\n",
    "from itertools import cycle, islice\n",
    "#from mpld3 import save_html  #Installed from conda\n",
    "#from folium import IFrame\n",
    "#from mpl_toolkits.basemap import Basemap"
   ]
  },
  {
   "cell_type": "code",
   "execution_count": 2,
   "metadata": {},
   "outputs": [
    {
     "name": "stdout",
     "output_type": "stream",
     "text": [
      "3.8.5\n",
      "1.1.3\n"
     ]
    }
   ],
   "source": [
    "from platform import python_version\n",
    "#mport statsmodels.api as sm\n",
    "#rint(sm.version())\n",
    "print(python_version())\n",
    "print(pd.__version__)"
   ]
  },
  {
   "cell_type": "markdown",
   "metadata": {},
   "source": [
    "### Figures 1 and 2 \n",
    "#### Read in uncleaned Data"
   ]
  },
  {
   "cell_type": "code",
   "execution_count": 3,
   "metadata": {},
   "outputs": [],
   "source": [
    "#dfU=pd.read_excel('DataFiles/NYC_Tree_05_15_combined_09Oct19.xlsx')\n",
    "dfU=pd.read_excel('DataFiles/PaperVersionUncleaned_05_15_combined.xlsx')"
   ]
  },
  {
   "cell_type": "code",
   "execution_count": 4,
   "metadata": {},
   "outputs": [
    {
     "name": "stdout",
     "output_type": "stream",
     "text": [
      "original data size (773289, 99)\n"
     ]
    }
   ],
   "source": [
    "print ('original data size',dfU.shape)"
   ]
  },
  {
   "cell_type": "code",
   "execution_count": 5,
   "metadata": {},
   "outputs": [
    {
     "name": "stdout",
     "output_type": "stream",
     "text": [
      "Data size for all trees with 2005 and 2015 data (143192, 93)\n"
     ]
    }
   ],
   "source": [
    "### remove a couple of unused solumns\n",
    "dfU.drop(columns=['council district_15','state_15','st_assem_15', 'st_senate_15','community board_15','spc_latin_15','spc_latin_05'],inplace=True)\n",
    "\n",
    "#### Calculate amount of growth\n",
    "dfU.dropna(subset=['tree_dbh_05', 'tree_dbh_15'],inplace=True)\n",
    "dfU['growth']=(dfU['tree_dbh_15']-dfU['tree_dbh_05'])\n",
    "print('Data size for all trees with 2005 and 2015 data',dfU.shape)"
   ]
  },
  {
   "cell_type": "code",
   "execution_count": 6,
   "metadata": {},
   "outputs": [],
   "source": [
    "dfU['tree_id_15']=dfU['tree_id_15'].astype(str).apply(lambda x: x.replace('.0',''))\n",
    "dfU.set_index('tree_id_15',inplace=True)\n",
    "dfU.index.rename('TreeID',inplace=True)"
   ]
  },
  {
   "cell_type": "markdown",
   "metadata": {},
   "source": [
    "### Read in Cleaned NYC Data"
   ]
  },
  {
   "cell_type": "code",
   "execution_count": 7,
   "metadata": {},
   "outputs": [],
   "source": [
    "dfC=pd.read_excel('DataFiles/Cleaned_NYC_Growth.xlsx')\n",
    "#dfC=pd.read_excel('DataFiles/tree_census_join_20210613.xlsx') "
   ]
  },
  {
   "cell_type": "code",
   "execution_count": 8,
   "metadata": {},
   "outputs": [],
   "source": [
    "dfC['tree_id_15']=dfC['tree_id_15'].astype(str).apply(lambda x: x.replace('.0',''))\n",
    "dfC.set_index('tree_id_15',inplace=True)\n",
    "dfC.index.rename('TreeID',inplace=True)"
   ]
  },
  {
   "cell_type": "code",
   "execution_count": null,
   "metadata": {},
   "outputs": [],
   "source": []
  },
  {
   "cell_type": "markdown",
   "metadata": {},
   "source": [
    "## Read in Ground Truthed Data\n",
    "* Read in Kobo Field data\n",
    "* Combine with uncleaned NYC data\n",
    "* Assess how many trees found\n",
    "* calculate theil senn slope on the three data points"
   ]
  },
  {
   "cell_type": "code",
   "execution_count": 9,
   "metadata": {},
   "outputs": [
    {
     "name": "stdout",
     "output_type": "stream",
     "text": [
      "number of trees visitied including duplicates=104\n",
      "number of trees visitied removing duplicates=(93,)\n",
      "number of trees visitied and could be measured=87\n",
      "number of trees with 2005 and 2015 numbers=92\n",
      "Trees that were not remeasured Index(['98860', '193105', '193104', '76328', '90908', '89535'], dtype='object', name='TreeID')\n",
      "number of trees with 2005, 20015, and 2019 numbers=86\n"
     ]
    }
   ],
   "source": [
    "dfKobo=pd.read_excel('DataFiles/NYC Trees_V2 - latest.xlsx')\n",
    "dfKobo.rename(columns={'What is the Tree ID? ': 'TreeID'}, inplace=True)\n",
    "dfKobo.dropna(subset=['TreeID'],inplace=True)\n",
    "\n",
    "temp=dfKobo['TreeID'].count()\n",
    "print('number of trees visitied including duplicates={}'.format(temp))\n",
    "\n",
    "dfKobo.TreeID=dfKobo.TreeID.astype(int)\n",
    "dfKobo.TreeID=dfKobo.TreeID.astype(str)\n",
    "dfKobo.set_index('TreeID',inplace=True)\n",
    "#dfKobo.index=dfKobo.index.astype(str)\n",
    "\n",
    "dfKobo.rename(columns={'DBH (cm) at breast height (Breast height is 4.5 ft/54 in/137 cm)':'DBH_cm',\n",
    "       'DBH (in) at breast height (Breast height is 4.5 ft/54 in/137 cm)':'DBH_in',\n",
    "       'Circumference (cm) at breast height (Breast height is 4.5 ft/54 in/137 cm)':'Circ_cm',\n",
    "       'Circumference (in) at breast height (Breast height is 4.5 ft/54 in/137 cm)':'Circ_in'},inplace=True)\n",
    "\n",
    "dfKobo['tree_dbh_19']=dfKobo.apply(lambda row: row.DBH_in if pd.notnull(row.DBH_in) else row.DBH_cm/2.54, axis=1)\n",
    "\n",
    "\n",
    "\n",
    "dfKobo = dfKobo.loc[~dfKobo.index.duplicated(keep='first')]\n",
    "\n",
    "print('number of trees visitied removing duplicates={}'.format(dfKobo.index.shape))\n",
    "\n",
    "temp=dfKobo['tree_dbh_19'].count()\n",
    "print('number of trees visitied and could be measured={}'.format(temp))\n",
    "\n",
    "\n",
    "dfGT=pd.concat([dfKobo,dfU], axis=1,join='inner')\n",
    "\n",
    "temp=dfGT.dropna(subset=['tree_dbh_05','tree_dbh_15'])['tree_dbh_05'].count()\n",
    "print('number of trees with 2005 and 2015 numbers={}'.format(temp))\n",
    "\n",
    "\n",
    "print('Trees that were not remeasured',dfGT[dfGT['tree_dbh_19'].isnull()].index)\n",
    "\n",
    "dfGT=dfGT.dropna(subset=['tree_dbh_05','tree_dbh_15','tree_dbh_19'])\n",
    "\n",
    "temp=dfGT['tree_dbh_05'].count()\n",
    "print('number of trees with 2005, 20015, and 2019 numbers={}'.format(temp))\n",
    "\n"
   ]
  },
  {
   "cell_type": "markdown",
   "metadata": {},
   "source": [
    "### Summary of trees could not find\n",
    "\n",
    "We tried to visit 93 trees.  We could not find 6 trees (reasons are below).  Then one tree we visited was missing NYC data.  We found 86 trees that had 3 data points, two from NYC and the one we added.  In summary I will say we visited 92 trees with 2005 and 2015 data.  6 could not be re-located and measured.  \n",
    "\n",
    "* 98860 - Found a tree with all branches cut off\n",
    "* 193105 - Construction blocking it\n",
    "* 193104 - Construction blocking it\n",
    "* 76328 - could not find tree\n",
    "* 90908 - could not find tree\n",
    "* 89535 - Field Entry error.  No data and pictures of office"
   ]
  },
  {
   "cell_type": "markdown",
   "metadata": {},
   "source": [
    "### Trees we found for Ground Truthing"
   ]
  },
  {
   "cell_type": "code",
   "execution_count": 10,
   "metadata": {},
   "outputs": [
    {
     "name": "stdout",
     "output_type": "stream",
     "text": [
      "Number of Ground Truthed Trees=86\n",
      "Positive Slope=73, Negative slope=13\n",
      "Slope Less than -0.5 in/yr=3\n",
      "Kendall Tau=1: 53\n",
      "NYC 2015-2005 >=0 =72,<0=14 \n",
      "NYC 2015-2005 < -5 =7\n",
      "\n",
      "Trees that have negative slope (theil senn slope) or 2015-2005=treeid        15\n",
      "spc_common    15\n",
      "slope         15\n",
      "kendalltau    15\n",
      "2015_2005     15\n",
      "dtype: int64\n"
     ]
    }
   ],
   "source": [
    "df_GT_tree_growth=pd.DataFrame()\n",
    "i=0\n",
    "for index, row in dfGT.iterrows():\n",
    "\n",
    "    \n",
    "    x=np.array([2005,2015,2019.0])\n",
    "    y=row[['tree_dbh_05','tree_dbh_15','tree_dbh_19']].astype(float)\n",
    "        \n",
    "    stats_theil=stats.theilslopes(y,x, alpha=0.95)\n",
    "    stats_kendall= stats.kendalltau(y,x)\n",
    "    df_GT_tree_growth.at[i,'treeid']=index\n",
    "    df_GT_tree_growth.at[i,'spc_common']=row.spc_common\n",
    "    df_GT_tree_growth.at[i,'slope']=stats_theil[0]\n",
    "    df_GT_tree_growth.at[i,'kendalltau']=stats_kendall.correlation\n",
    "    df_GT_tree_growth.at[i,'2015_2005']=y[1]-y[0]\n",
    "    i+=1\n",
    "\n",
    "#To print out ground_truthed data for each tree\n",
    "#df_GT_tree_growth.to_excel('DataFiles/Ground_Truthed_Fitted_Data.xlsx')\n",
    "\n",
    "temp=(df_GT_tree_growth['slope']>=0).count()\n",
    "print('Number of Ground Truthed Trees={}'.format(temp))\n",
    "\n",
    "temp=(df_GT_tree_growth['slope']>=0).value_counts()\n",
    "print('Positive Slope={}, Negative slope={}'.format(temp[1],temp[0]))\n",
    "\n",
    "temp=(df_GT_tree_growth['slope']< -0.5).value_counts()\n",
    "print('Slope Less than -0.5 in/yr={}'.format(temp[1]))\n",
    "\n",
    "temp=(df_GT_tree_growth['kendalltau']==1).value_counts()\n",
    "print('Kendall Tau=1: {}'.format(temp[1]))\n",
    "      \n",
    "temp=(df_GT_tree_growth['2015_2005']>=0).value_counts()\n",
    "print('NYC 2015-2005 >=0 ={},<0={} '.format(temp[1],temp[0]))\n",
    "\n",
    "temp=(df_GT_tree_growth['2015_2005']< -5).value_counts()\n",
    "print('NYC 2015-2005 < -5 ={}'.format(temp[1]))\n",
    "\n",
    "temp=df_GT_tree_growth[np.logical_or(df_GT_tree_growth['2015_2005']<0\n",
    "                                ,df_GT_tree_growth['slope']<0)].count()\n",
    "print('\\nTrees that have negative slope (theil senn slope) or 2015-2005={}'.format(temp))"
   ]
  },
  {
   "cell_type": "markdown",
   "metadata": {},
   "source": [
    "### All trees with a negative slope or negative 2015-2005"
   ]
  },
  {
   "cell_type": "code",
   "execution_count": 11,
   "metadata": {},
   "outputs": [
    {
     "data": {
      "text/html": [
       "<div>\n",
       "<style scoped>\n",
       "    .dataframe tbody tr th:only-of-type {\n",
       "        vertical-align: middle;\n",
       "    }\n",
       "\n",
       "    .dataframe tbody tr th {\n",
       "        vertical-align: top;\n",
       "    }\n",
       "\n",
       "    .dataframe thead th {\n",
       "        text-align: right;\n",
       "    }\n",
       "</style>\n",
       "<table border=\"1\" class=\"dataframe\">\n",
       "  <thead>\n",
       "    <tr style=\"text-align: right;\">\n",
       "      <th></th>\n",
       "      <th>treeid</th>\n",
       "      <th>spc_common</th>\n",
       "      <th>slope</th>\n",
       "      <th>kendalltau</th>\n",
       "      <th>2015_2005</th>\n",
       "    </tr>\n",
       "  </thead>\n",
       "  <tbody>\n",
       "    <tr>\n",
       "      <th>25</th>\n",
       "      <td>193097</td>\n",
       "      <td>london planetree</td>\n",
       "      <td>-3.022497</td>\n",
       "      <td>-0.333333</td>\n",
       "      <td>-43.0</td>\n",
       "    </tr>\n",
       "    <tr>\n",
       "      <th>48</th>\n",
       "      <td>344045</td>\n",
       "      <td>ginkgo</td>\n",
       "      <td>-0.896429</td>\n",
       "      <td>-0.333333</td>\n",
       "      <td>-14.0</td>\n",
       "    </tr>\n",
       "    <tr>\n",
       "      <th>39</th>\n",
       "      <td>76486</td>\n",
       "      <td>ginkgo</td>\n",
       "      <td>0.035714</td>\n",
       "      <td>0.333333</td>\n",
       "      <td>-9.0</td>\n",
       "    </tr>\n",
       "    <tr>\n",
       "      <th>28</th>\n",
       "      <td>76334</td>\n",
       "      <td>callery pear</td>\n",
       "      <td>-0.528571</td>\n",
       "      <td>-0.333333</td>\n",
       "      <td>-8.0</td>\n",
       "    </tr>\n",
       "    <tr>\n",
       "      <th>42</th>\n",
       "      <td>349446</td>\n",
       "      <td>ginkgo</td>\n",
       "      <td>-0.257143</td>\n",
       "      <td>-0.333333</td>\n",
       "      <td>-6.0</td>\n",
       "    </tr>\n",
       "    <tr>\n",
       "      <th>49</th>\n",
       "      <td>344049</td>\n",
       "      <td>callery pear</td>\n",
       "      <td>-0.364286</td>\n",
       "      <td>-0.333333</td>\n",
       "      <td>-6.0</td>\n",
       "    </tr>\n",
       "    <tr>\n",
       "      <th>64</th>\n",
       "      <td>261813</td>\n",
       "      <td>ginkgo</td>\n",
       "      <td>-0.359286</td>\n",
       "      <td>-0.333333</td>\n",
       "      <td>-6.0</td>\n",
       "    </tr>\n",
       "    <tr>\n",
       "      <th>43</th>\n",
       "      <td>349468</td>\n",
       "      <td>ginkgo</td>\n",
       "      <td>-0.271429</td>\n",
       "      <td>-0.333333</td>\n",
       "      <td>-4.0</td>\n",
       "    </tr>\n",
       "    <tr>\n",
       "      <th>27</th>\n",
       "      <td>76656</td>\n",
       "      <td>london planetree</td>\n",
       "      <td>-0.171429</td>\n",
       "      <td>-0.333333</td>\n",
       "      <td>-3.0</td>\n",
       "    </tr>\n",
       "    <tr>\n",
       "      <th>33</th>\n",
       "      <td>76059</td>\n",
       "      <td>callery pear</td>\n",
       "      <td>-0.207143</td>\n",
       "      <td>-0.333333</td>\n",
       "      <td>-3.0</td>\n",
       "    </tr>\n",
       "    <tr>\n",
       "      <th>53</th>\n",
       "      <td>344063</td>\n",
       "      <td>honeylocust</td>\n",
       "      <td>-0.164286</td>\n",
       "      <td>-0.333333</td>\n",
       "      <td>-3.0</td>\n",
       "    </tr>\n",
       "    <tr>\n",
       "      <th>60</th>\n",
       "      <td>255391</td>\n",
       "      <td>ginkgo</td>\n",
       "      <td>-0.085714</td>\n",
       "      <td>-0.333333</td>\n",
       "      <td>-3.0</td>\n",
       "    </tr>\n",
       "    <tr>\n",
       "      <th>35</th>\n",
       "      <td>329103</td>\n",
       "      <td>ginkgo</td>\n",
       "      <td>-0.107143</td>\n",
       "      <td>-0.333333</td>\n",
       "      <td>-2.0</td>\n",
       "    </tr>\n",
       "    <tr>\n",
       "      <th>82</th>\n",
       "      <td>155515</td>\n",
       "      <td>ginkgo</td>\n",
       "      <td>0.228571</td>\n",
       "      <td>0.333333</td>\n",
       "      <td>-2.0</td>\n",
       "    </tr>\n",
       "    <tr>\n",
       "      <th>54</th>\n",
       "      <td>39446</td>\n",
       "      <td>littleleaf linden</td>\n",
       "      <td>-0.389286</td>\n",
       "      <td>-0.333333</td>\n",
       "      <td>1.0</td>\n",
       "    </tr>\n",
       "  </tbody>\n",
       "</table>\n",
       "</div>"
      ],
      "text/plain": [
       "    treeid         spc_common     slope  kendalltau  2015_2005\n",
       "25  193097   london planetree -3.022497   -0.333333      -43.0\n",
       "48  344045             ginkgo -0.896429   -0.333333      -14.0\n",
       "39   76486             ginkgo  0.035714    0.333333       -9.0\n",
       "28   76334       callery pear -0.528571   -0.333333       -8.0\n",
       "42  349446             ginkgo -0.257143   -0.333333       -6.0\n",
       "49  344049       callery pear -0.364286   -0.333333       -6.0\n",
       "64  261813             ginkgo -0.359286   -0.333333       -6.0\n",
       "43  349468             ginkgo -0.271429   -0.333333       -4.0\n",
       "27   76656   london planetree -0.171429   -0.333333       -3.0\n",
       "33   76059       callery pear -0.207143   -0.333333       -3.0\n",
       "53  344063        honeylocust -0.164286   -0.333333       -3.0\n",
       "60  255391             ginkgo -0.085714   -0.333333       -3.0\n",
       "35  329103             ginkgo -0.107143   -0.333333       -2.0\n",
       "82  155515             ginkgo  0.228571    0.333333       -2.0\n",
       "54   39446  littleleaf linden -0.389286   -0.333333        1.0"
      ]
     },
     "execution_count": 11,
     "metadata": {},
     "output_type": "execute_result"
    }
   ],
   "source": [
    "df_GT_tree_growth[np.logical_or(df_GT_tree_growth['2015_2005']<0\n",
    "                                ,df_GT_tree_growth['slope']<0)].sort_values(by='2015_2005')"
   ]
  },
  {
   "cell_type": "markdown",
   "metadata": {},
   "source": [
    "Now I went back and looked at each tree to see what happened\n",
    "\n",
    "Seven trees decreased by over 5 inches in the two NYC surveys.  The three DBH numbers are the 2005 NYC,2015 NYC, and 2019 ground truth data\n",
    "* 193097\tlondon planetree -43.0=52,9,9.7 definately a small london must have been replaced\n",
    "* 344045\tginkgo -14.0= 16,2,3.45small gingko planted next to big ginkgo.  Could be replanted or wrong tree.  second two data points match.\n",
    "* 76486\tginkgo -9.0= 10,1,10.5. Was a big gingko in pictures. 3 data points are   Probably a typo in 2015 data \n",
    "* 76334\tcallery pear -8.0=10,2,2.6. replaced-a new tree.  Tree has Tag on it.\n",
    "* 349446\tginkgo -6.0=8,2,4.4looks like new tree with tag on it\n",
    "* 344049\tcallery pear -6.0=10,4,4.9. smaller tree.  could have been replaced.  second two measurements match\n",
    "* 261813\tginkgo -6.0=19,13,13.97.  Tree is big in its own pit.  Assuming first one is a mistake/typo\n",
    "\n",
    "Summary for the 7 trees appears to be 5 trees were replaced with the same species, one appears to be a typo in 2015 NYC data, and one is a mismeasurement or typo in 2005 NYC data\n",
    "\n",
    "\n",
    "Eight more trees had a negative kendall tau slope or decreased from 2005 to 2015 but less than 5 inches.\n",
    "\n",
    "* 349468\tginkgo -4.0=13,9,9.2. we visited in twice and got 9.2 and 9.28.  2005=13, 2015=9.  Too big to be replaced.  must be measurement error\n",
    "* 76656\tlondon planetree -3.0=7,4,4.6. a small scraggly tree behind scaffolding. Maybe replaced or mismeasure the first time\n",
    "* 76059\tcallery pear -3.0=11,8,8.2.  behind scaffolding. Probably miss measured the first time \n",
    "* 344063\thoneylocust -3.0=9,6,6.7.  nothing special.  looks okay on pictures.  Probably mis-measured the first time.\n",
    "* 255391\tginkgo -3.0=5,2,3.8, looks like okay in pictures.  Either replaced or mismeasured\n",
    "* 329103\tginkgo -2.0=8,6,6.5 looks okay in pictures.  Rounding errors on NYC data\n",
    "* 155515\tginkgo -2.0=10,8,13.2 looks okay in pictures.  8 must be a mismeasurement\n",
    "* 39446\tlittleleaf linden 1.0=10,11,4.55.  Has a tag probably a new tree.  \n"
   ]
  },
  {
   "cell_type": "code",
   "execution_count": 12,
   "metadata": {},
   "outputs": [
    {
     "data": {
      "text/plain": [
       "tree_dbh_05        8\n",
       "tree_dbh_15       10\n",
       "tree_dbh_19    10.73\n",
       "Name: 76516, dtype: object"
      ]
     },
     "execution_count": 12,
     "metadata": {},
     "output_type": "execute_result"
    }
   ],
   "source": [
    "### This is just used to get data for a specific tree\n",
    "dfGT.loc['76516'][['tree_dbh_05','tree_dbh_15','tree_dbh_19']]"
   ]
  },
  {
   "cell_type": "code",
   "execution_count": null,
   "metadata": {},
   "outputs": [],
   "source": []
  },
  {
   "cell_type": "markdown",
   "metadata": {},
   "source": [
    "### Temporal Validation data.\n",
    "Was originally called \"campus tree data 2015 2016 2017 terryanne.xlsx\"\n",
    "\n",
    "These are trees that were visited annually from 2015 or 2016 onward."
   ]
  },
  {
   "cell_type": "code",
   "execution_count": 26,
   "metadata": {},
   "outputs": [
    {
     "name": "stdout",
     "output_type": "stream",
     "text": [
      "the full number of campus trees measured was 73\n",
      "the shape of the Temporal Validation data is (44, 24)\n",
      "Number of trees with NYC data from 2015=36\n",
      "Number of trees with NYC data from 2005=1\n",
      "Number of trees with NYC data from 2005 and 2015=1\n"
     ]
    }
   ],
   "source": [
    "dfTV=pd.read_excel('DataFiles/TemporalValidationData.xlsx'\n",
    "                   ,sheet_name='Terryanne',index_col='old tree number')\n",
    "dfTV.index=dfTV.index.astype(str)\n",
    "dfTV['NYCtree_id']=dfTV['NYCtree_id'].astype(str).apply(lambda x: x.replace('.0',''))\n",
    "\n",
    "\n",
    "temp=(dfTV['UseMe'].count())\n",
    "print('the full number of campus trees measured was {}'.format(temp))\n",
    "\n",
    "dfTV=dfTV[dfTV['UseMe']==True]\n",
    "\n",
    "print('the shape of the Temporal Validation data is {}'.format(dfTV.shape))\n",
    "\n",
    "temp=(dfTV['DBH_15']>0).value_counts()\n",
    "print('Number of trees with NYC data from 2015={}'.format(temp[1]))\n",
    "\n",
    "temp=(dfTV['DBH_05']>0).value_counts()\n",
    "print('Number of trees with NYC data from 2005={}'.format(temp[1]))\n",
    "\n",
    "temp=(np.logical_and(dfTV['DBH_05']>0,dfTV['DBH_15']>0)).value_counts()\n",
    "print('Number of trees with NYC data from 2005 and 2015={}'.format(temp[1]))\n",
    "\n"
   ]
  },
  {
   "cell_type": "markdown",
   "metadata": {},
   "source": [
    "Over the years 73 trees have been measured for temporal validation but for many trees they either didn't have data from 2015 or 2016 or were subsequently removed.  There has been a lot of construction around campus.  For this analysis only trees that had measurments begining in 2015 or 2016 and went to 2021 were used. This gave us 44 trees that could be used for the analysis.  Out of these 44, 36 trees had data from the 2015 NYC census and 1 of the 36 trees also had a datapoint from the 2005 NYC tree census."
   ]
  },
  {
   "cell_type": "code",
   "execution_count": 14,
   "metadata": {},
   "outputs": [],
   "source": [
    "dfTV_summary=pd.DataFrame()\n",
    "\n",
    "for i,tree_all in dfTV.iterrows():\n",
    "    tree=tree_all[[datetime.datetime(2015, 11, 1, 0, 0),\n",
    "       datetime.datetime(2016, 11, 1, 0, 0),\n",
    "       datetime.datetime(2017, 11, 1, 0, 0),\n",
    "       datetime.datetime(2018, 11, 18, 0, 0),\n",
    "       datetime.datetime(2019, 7, 1, 0, 0),\n",
    "       datetime.datetime(2020, 11, 19, 0, 0),\n",
    "       datetime.datetime(2021, 4, 21, 0, 0),\n",
    "       datetime.datetime(2021, 6, 10, 0, 0),\n",
    "       datetime.datetime(2021, 6, 21, 0, 0)]]\n",
    "\n",
    "    x=tree.dropna().index.year+ (tree.dropna().index.dayofyear -1)/365  #convert to decimal year\n",
    "    y=tree.dropna().values\n",
    "    if x.shape[0]>1:\n",
    "\n",
    "        stats_theil=stats.theilslopes(y,(x-x[0]), alpha=0.95)\n",
    "        stats_kendall= stats.kendalltau(y,(x-x[0]))\n",
    "        dfTV_summary.at[i,'old tree number']=i\n",
    "        dfTV_summary.at[i,'new tree number']=tree_all['new tree number']\n",
    "        dfTV_summary.at[i,'NYCtree_id']=tree_all['NYCtree_id']\n",
    "        dfTV_summary.at[i,'species']=tree_all['species']\n",
    "        dfTV_summary.at[i,'slope']=stats_theil[0]\n",
    "        dfTV_summary.at[i,'kendalltau']=stats_kendall.correlation\n",
    "\n",
    "    else:\n",
    "        print('no data for tree',i)\n"
   ]
  },
  {
   "cell_type": "code",
   "execution_count": 15,
   "metadata": {},
   "outputs": [
    {
     "name": "stdout",
     "output_type": "stream",
     "text": [
      "no trees with negative slopes\n"
     ]
    }
   ],
   "source": [
    "temp=(dfTV_summary['slope']>=0).value_counts()\n",
    "if temp[1]==dfTV_summary['slope'].count():\n",
    "    print('no trees with negative slopes')\n",
    "else:\n",
    "    print('trouble')\n"
   ]
  },
  {
   "cell_type": "markdown",
   "metadata": {},
   "source": [
    "## Figure 1\n",
    "Uses data from\n",
    "* NYC Cleaned data\n",
    "* Ground Truthed fitted data using three points\n",
    "* Temporal Validation data"
   ]
  },
  {
   "cell_type": "code",
   "execution_count": 24,
   "metadata": {},
   "outputs": [
    {
     "data": {
      "image/png": "[encoded data removed]",
      "text/plain": [
       "<Figure size 432x864 with 4 Axes>"
      ]
     },
     "metadata": {
      "needs_background": "light"
     },
     "output_type": "display_data"
    }
   ],
   "source": [
    "fig,ax=plt.subplots(3,1)\n",
    "fig.set_size_inches(6,12)\n",
    "\n",
    "#####################################\n",
    "bins=np.linspace(-1.1,1.2,24)\n",
    "################################\n",
    "ax[1].hist(df_GT_tree_growth.slope,bins=bins)#\n",
    "ax[1].set_xlabel('Tree Growth (in/yr)',fontsize=12)\n",
    "ax[1].set_ylabel('Number of Trees',fontsize=12)\n",
    "df_GT_tree_growth['temp_y']=28\n",
    "im=ax[1].scatter(df_GT_tree_growth.slope,df_GT_tree_growth.temp_y,c=df_GT_tree_growth.kendalltau,alpha=0.5,cmap='bwr',edgecolor='none',vmin=-1)\n",
    "ax[1].text(0.01,.99,'(B) NYC ground-truthed validation',transform=ax[1].transAxes,fontsize=10,verticalalignment='top')#,bbox=props2)\n",
    "ax[1].set_xlim(-.5,1.2)\n",
    "ax[1].set_ylim(0,32)\n",
    "cbaxes = fig.add_axes([1.0, 0.2, 0.03, 0.25]) \n",
    "cbar=fig.colorbar(im,shrink=0.1,cax=cbaxes)#,ax=axbig\n",
    "cbar.ax.set_title('Kendall Tau')\n",
    "cbar.solids.set_edgecolor(\"face\")\n",
    "ax[1].grid()\n",
    "\n",
    "###############################################################################\n",
    "dfTV_summary.slope.hist(ax=ax[2],bins=bins)\n",
    "ax[2].set_xlabel('Tree Growth (in/yr)',fontsize=12)\n",
    "ax[2].set_ylabel('Number of Trees',fontsize=12)\n",
    "dfTV_summary['temp_y']=18\n",
    "im=ax[2].scatter(dfTV_summary.slope,dfTV_summary.temp_y,c=dfTV_summary.kendalltau,alpha=0.5,cmap='bwr',edgecolor='none',vmin=-1)\n",
    "ax[2].text(0.01,.99,'(C) NYC temporal validation',transform=ax[2].transAxes,fontsize=10,verticalalignment='top')#,bbox=props2)\n",
    "ax[2].set_xlim(-.5,1.2)\n",
    "ax[2].set_ylim(0,21)\n",
    "\n",
    "##########################################################\n",
    "dfC['growth_rate'].hist(ax=ax[0],bins=bins)\n",
    "ax[0].set_xlim(-.5,1.2)\n",
    "ax[0].set_xlabel('Tree Growth (in/yr)',fontsize=12)\n",
    "ax[0].set_ylabel('Number of Trees',fontsize=12)\n",
    "ax[0].text(0.01,.99,'(A) NYC Tree Census',transform=ax[0].transAxes,fontsize=10,verticalalignment='top')#,bbox=props2)\n",
    "\n",
    "fig.subplots_adjust(wspace=.5,hspace=.5)\n",
    "fig.savefig('Figures/Figure1-Histograms_of_Datasets.jpg',dpi=800,bbox_inches='tight')"
   ]
  },
  {
   "cell_type": "markdown",
   "metadata": {},
   "source": [
    "## Figure 2\n",
    "* This used NYC uncleaned data since using cleaned data would have removed the trees in panel (B) that is used as an example of a tree being removed"
   ]
  },
  {
   "cell_type": "code",
   "execution_count": 32,
   "metadata": {},
   "outputs": [
    {
     "name": "stdout",
     "output_type": "stream",
     "text": [
      "ground truth pos growth n=73, neg growth n=10, discard n=3\n",
      "temporal pos growth n=44, neg growth n=0\n"
     ]
    },
    {
     "data": {
      "image/png": "[encoded data removed]",
      "text/plain": [
       "<Figure size 648x432 with 6 Axes>"
      ]
     },
     "metadata": {
      "needs_background": "light"
     },
     "output_type": "display_data"
    }
   ],
   "source": [
    "props=dict(boxstyle='round',facecolor='white',alpha=.05)\n",
    "\n",
    "fig,ax=plt.subplots(2,3,sharey=True)\n",
    "fig.set_size_inches(9,6)\n",
    "\n",
    "treeNum='76516'\n",
    "ax[0,0].scatter(2019.0,dfGT.loc[treeNum]['tree_dbh_19'],zorder=10)\n",
    "x=np.array([2005,2015,2019])\n",
    "y=dfGT.loc[treeNum][['tree_dbh_05','tree_dbh_15','tree_dbh_19']].astype(float)\n",
    "\n",
    "ax[0,0].scatter(x,y)\n",
    "stats_theil=stats.mstats.theilslopes(y,x, alpha=0.95)\n",
    "textstr='NYCtree#:{}\\nGrowth:{:0.2f} in/y'.format(treeNum,stats_theil[0])\n",
    "ax[0,0].text(0.05,0.95,textstr,transform=ax[0,0].transAxes,fontsize=8,verticalalignment='top',bbox=props)\n",
    "ax[0,0].text(0.90,.99,'(A)',transform=ax[0,0].transAxes,fontsize=8,verticalalignment='top')#,bbox=props2)\n",
    "ax[0,0].set_ylabel('DBH (in)',fontsize=14)\n",
    "ax[0,0].set_xlim([2004.5,2020])\n",
    "intercept=np.median(y)-stats_theil[0]*np.median(x)\n",
    "tempx=np.linspace(2005,2021)\n",
    "ax[0,0].plot(tempx,stats_theil[0]*tempx+intercept,zorder=1,c='C1',linestyle='dashed')\n",
    "\n",
    "\n",
    "treeNum='76334'\n",
    "ax[0,1].scatter(2019.0,dfGT.loc[treeNum]['tree_dbh_19'],zorder=10)\n",
    "x=np.array([2005,2015,2019])\n",
    "y=dfGT.loc[treeNum][['tree_dbh_05','tree_dbh_15','tree_dbh_19']].astype(float)\n",
    "ax[0,1].scatter(x,y)\n",
    "\n",
    "stats_theil=stats.mstats.theilslopes(y,x, alpha=0.95)\n",
    "textstr='NYCtree#:{}\\nGrowth:{:0.2f} in/y'.format(treeNum,stats_theil[0])\n",
    "ax[0,1].text(0.05,0.95,textstr,transform=ax[0,1].transAxes,fontsize=8,verticalalignment='top',bbox=props)\n",
    "ax[0,1].text(0.90,.99,'(B)',transform=ax[0,1].transAxes,fontsize=8,verticalalignment='top')#,bbox=props2)\n",
    "ax[0,1].set_xlim([2004.5,2020])\n",
    "intercept=np.median(y)-stats_theil[0]*np.median(x)\n",
    "tempx=np.linspace(2005,2021)\n",
    "ax[0,1].plot(tempx,stats_theil[0]*tempx+intercept,zorder=1,c='C1',linestyle='dashed')\n",
    "\n",
    "\n",
    "##############################################\n",
    "treeNum='329103'\n",
    "ax[0,2].scatter(2019.0,dfGT.loc[treeNum]['tree_dbh_19'],zorder=10)\n",
    "x=np.array([2005,2015,2019])\n",
    "y=dfGT.loc[treeNum][['tree_dbh_05','tree_dbh_15','tree_dbh_19']].astype(float)\n",
    "ax[0,2].scatter(x,y)\n",
    "stats_theil=stats.mstats.theilslopes(y,x, alpha=0.95)\n",
    "textstr='NYCtree#:{}\\nGrowth:{:0.2f} in/y'.format(treeNum,stats_theil[0])\n",
    "ax[0,2].text(0.05,0.95,textstr,transform=ax[0,2].transAxes,fontsize=8,verticalalignment='top',bbox=props)\n",
    "ax[0,2].text(0.90,.99,'(C)',transform=ax[0,2].transAxes,fontsize=8,verticalalignment='top')#,bbox=props2)\n",
    "ax[0,2].set_xlim([2004.5,2020])\n",
    "intercept=np.median(y)-stats_theil[0]*np.median(x)\n",
    "tempx=np.linspace(2005,2021)\n",
    "ax[0,2].plot(tempx,stats_theil[0]*tempx+intercept,zorder=1,c='C1',linestyle='dashed',label='Best fit NYC Data')\n",
    "\n",
    "\n",
    "\n",
    "#####################################################################\n",
    "##############I used iloc to ignore early columns.  So if a column gets added it needs to change\n",
    "######## I hardwired teh columns needed\n",
    "treeNum='1'\n",
    "x=pd.to_datetime(dfTV.loc[treeNum].iloc[7:14].dropna().index).year \\\n",
    " + (pd.to_datetime(dfTV.loc[treeNum].iloc[7:14].dropna().index).dayofyear -1)/365\n",
    "\n",
    "y=dfTV.loc[treeNum].iloc[7:14].dropna().values\n",
    "ax[1,0].scatter(x,y)\n",
    "ax[1,0].scatter([2006,2016],dfTV.loc[treeNum][['DBH_05','DBH_15']])\n",
    "\n",
    "stats_theil=stats.mstats.theilslopes(y,x, alpha=0.95)\n",
    "stats_kendall= stats.kendalltau(y,x)\n",
    "textstr='Temoral tree#:1\\nNYCtree#:{}\\nGrowth:{:0.2f} in/y\\nKendall tau:{:0.3f}'.format(dfTV.loc[treeNum]['NYCtree_id']\n",
    "                                                                                        ,stats_theil[0],stats_kendall.correlation)\n",
    "ax[1,0].text(0.05,0.95,textstr,transform=ax[1,0].transAxes,fontsize=8,verticalalignment='top',bbox=props)\n",
    "ax[1,0].text(0.90,.99,'(D)',transform=ax[1,0].transAxes,fontsize=8,verticalalignment='top')#,bbox=props2)\n",
    "ax[1,0].set_xlabel('Date',fontsize=14)\n",
    "ax[1,0].set_ylabel('DBH (in)',fontsize=14)\n",
    "ax[1,0].set_xlim([2004.5,2022])\n",
    "intercept=np.median(y)-stats_theil[0]*np.median(x)\n",
    "tempx=np.linspace(2005,2022)\n",
    "ax[1,0].plot(tempx,stats_theil[0]*tempx+intercept,zorder=1,c='C0',linestyle='dashed')\n",
    "\n",
    "\n",
    "\n",
    "################################################################\n",
    "treeNum='11'\n",
    "x=pd.to_datetime(dfTV.loc[treeNum].iloc[7:14].dropna().index).year \\\n",
    " + (pd.to_datetime(dfTV.loc[treeNum].iloc[7:14].dropna().index).dayofyear -1)/365\n",
    "\n",
    "y=dfTV.loc[treeNum].iloc[7:14].dropna().values\n",
    "ax[1,1].scatter(x,y)\n",
    "ax[1,1].scatter([2006,2016],dfTV.loc[treeNum][['DBH_05','DBH_15']])\n",
    "\n",
    "stats_theil=stats.mstats.theilslopes(y,x, alpha=0.95)\n",
    "stats_kendall= stats.kendalltau(y,x)\n",
    "textstr='Temporal tree#:11\\nNYCtree#:{}\\nGrowth:{:0.2f} in/y\\nKendall tau:{:0.3f}'.format(dfTV.loc[treeNum]['NYCtree_id']\n",
    "                                                                                          ,stats_theil[0],stats_kendall.correlation)\n",
    "ax[1,1].text(0.05,0.3,textstr,transform=ax[1,1].transAxes,fontsize=8,verticalalignment='top',bbox=props)\n",
    "ax[1,1].text(0.90,.15,'(E)',transform=ax[1,1].transAxes,fontsize=8,verticalalignment='top')#,bbox=props2)\n",
    "ax[1,1].set_xlabel('Date',fontsize=14)\n",
    "ax[1,1].set_xlim([2004.5,2022])\n",
    "intercept=np.median(y)-stats_theil[0]*np.median(x)\n",
    "tempx=np.linspace(2005,2022)\n",
    "ax[1,1].plot(tempx,stats_theil[0]*tempx+intercept,zorder=1,c='C0',linestyle='dashed')\n",
    "\n",
    "\n",
    "##################################################\n",
    "treeNum='27'\n",
    "x=pd.to_datetime(dfTV.loc[treeNum].iloc[7:14].dropna().index).year \\\n",
    " + (pd.to_datetime(dfTV.loc[treeNum].iloc[7:14].dropna().index).dayofyear -1)/365\n",
    "\n",
    "y=dfTV.loc[treeNum].iloc[7:14].dropna().values\n",
    "ax[1,2].scatter(x,y,label='Temporal Validation Data')\n",
    "ax[1,2].scatter([2006,2016],dfTV.loc[treeNum][['DBH_05','DBH_15']],label='NYC Tree Census Data')\n",
    "\n",
    "stats_theil=stats.mstats.theilslopes(y,x, alpha=0.95)\n",
    "stats_kendall= stats.kendalltau(y,x)\n",
    "textstr='Temporal tree#:27\\nNYCtree#:{}\\nGrowth:{:0.2f} in/y\\nKendall tau:{:0.3f}'.format(dfTV.loc[treeNum]['NYCtree_id']\n",
    "                                                                                          ,stats_theil[0],stats_kendall.correlation)\n",
    "ax[1,2].text(0.05,0.95,textstr,transform=ax[1,2].transAxes,fontsize=8,verticalalignment='top',bbox=props)\n",
    "ax[1,2].text(0.90,.99,'(F)',transform=ax[1,2].transAxes,fontsize=8,verticalalignment='top')#,bbox=props2)\n",
    "ax[1,2].set_xlabel('Date',fontsize=14)\n",
    "ax[1,2].set_xlim([2004.5,2022])\n",
    "\n",
    "intercept=np.median(y)-stats_theil[0]*np.median(x)\n",
    "tempx=np.linspace(2005,2022)\n",
    "ax[1,2].plot(tempx,stats_theil[0]*tempx+intercept,zorder=1,c='C0',linestyle='dashed',label='Fit to Temporal Validation Data')\n",
    "\n",
    "ax[1,2].plot(0,0,zorder=1,c='C1',linestyle='dashed',label='Fit to 3 Data points')\n",
    "\n",
    "ax[1,2].legend(loc=[1.12,1.05])\n",
    "\n",
    "\n",
    "####################\n",
    "######## add the lines\n",
    "x=np.array([2005,2015,2019])\n",
    "tempx=np.array([2005,2022])\n",
    "count_plus=0\n",
    "count_neg=0\n",
    "count_disc=0\n",
    "for idx,dfr in dfGT.iterrows():\n",
    "    y=dfr[['tree_dbh_05','tree_dbh_15','tree_dbh_19']]\n",
    "    stats_theil=stats.mstats.theilslopes(y,x, alpha=0.95)\n",
    "    intercept=np.median(y)-stats_theil[0]*np.median(x)\n",
    "    if stats_theil[0]>=0:\n",
    "        plot=ax[0][0].plot(tempx,stats_theil[0]*tempx+intercept,zorder=1,linestyle='dashed',color='C1',alpha=0.1)\n",
    "        count_plus+=1\n",
    "    elif stats_theil[0]<-0.5:\n",
    "        plot=ax[0][1].plot(tempx,stats_theil[0]*tempx+intercept,zorder=1,linestyle='dashed',color='C1',alpha=0.1)\n",
    "        count_disc+=1\n",
    "    elif stats_theil[0]<0:\n",
    "        plot=ax[0][2].plot(tempx,stats_theil[0]*tempx+intercept,zorder=1,linestyle='dashed',color='C1',alpha=0.1)\n",
    "        count_neg+=1\n",
    "print('ground truth pos growth n={}, neg growth n={}, discard n={}'.format(count_plus\n",
    "                                                                           ,count_neg\n",
    "                                                                          ,count_disc))\n",
    "##################\n",
    "######### add lines for temporal\n",
    "count_plus=0\n",
    "count_neg=0\n",
    "for idx,dfR in dfTV.iterrows():\n",
    "    temp=dfR.iloc[7:14].dropna()\n",
    "    \n",
    "    x=pd.to_datetime(temp.index).year \\\n",
    " + (pd.to_datetime(temp.index).dayofyear -1)/365\n",
    "    y=temp.values\n",
    "    stats_theil=stats.mstats.theilslopes(y,x, alpha=0.95)\n",
    "    intercept=np.median(y)-stats_theil[0]*np.median(x)\n",
    "    if stats_theil[0]>0:\n",
    "        plot=ax[1][0].plot(tempx,stats_theil[0]*tempx+intercept,zorder=1\n",
    "                           ,linestyle='dashed',color='C0',alpha=0.1)\n",
    "        count_plus+=1\n",
    "    if stats_theil[0]<=0:\n",
    "        plot=ax[1][2].plot(tempx,stats_theil[0]*tempx+intercept,zorder=1\n",
    "                           ,linestyle='dashed',color='C0',alpha=0.1)\n",
    "        count_neg+=1\n",
    "print('temporal pos growth n={}, neg growth n={}'.format(count_plus,count_neg))\n",
    "\n",
    "\n",
    "fig.subplots_adjust(wspace=.3,hspace=.3)\n",
    "fig.savefig('Figures/Figure2-NYC_Barnard_example_trees_all_data.jpg',dpi=800,bbox_inches='tight')"
   ]
  },
  {
   "cell_type": "code",
   "execution_count": null,
   "metadata": {},
   "outputs": [],
   "source": []
  },
  {
   "cell_type": "code",
   "execution_count": null,
   "metadata": {},
   "outputs": [],
   "source": []
  },
  {
   "cell_type": "markdown",
   "metadata": {},
   "source": [
    "# END"
   ]
  },
  {
   "cell_type": "code",
   "execution_count": null,
   "metadata": {},
   "outputs": [],
   "source": []
  }
 ],
 "metadata": {
  "kernelspec": {
   "display_name": "Python 3",
   "language": "python",
   "name": "python3"
  },
  "language_info": {
   "codemirror_mode": {
    "name": "ipython",
    "version": 3
   },
   "file_extension": ".py",
   "mimetype": "text/x-python",
   "name": "python",
   "nbconvert_exporter": "python",
   "pygments_lexer": "ipython3",
   "version": "3.8.5"
  }
 },
 "nbformat": 4,
 "nbformat_minor": 4
}
